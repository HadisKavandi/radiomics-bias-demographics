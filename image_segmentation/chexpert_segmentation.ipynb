{
  "cells": [
    {
      "cell_type": "code",
      "execution_count": null,
      "metadata": {
        "colab": {
          "base_uri": "https://localhost:8080/"
        },
        "id": "BakfXv4K0rmy",
        "outputId": "b48e28cc-b3d2-4202-9963-203e5b98214a"
      },
      "outputs": [
        {
          "name": "stdout",
          "output_type": "stream",
          "text": [
            "Looking in indexes: https://pypi.org/simple, https://us-python.pkg.dev/colab-wheels/public/simple/\n",
            "Requirement already satisfied: boto3 in /usr/local/lib/python3.8/dist-packages (1.26.109)\n",
            "Requirement already satisfied: s3transfer<0.7.0,>=0.6.0 in /usr/local/lib/python3.8/dist-packages (from boto3) (0.6.0)\n",
            "Requirement already satisfied: jmespath<2.0.0,>=0.7.1 in /usr/local/lib/python3.8/dist-packages (from boto3) (1.0.1)\n",
            "Requirement already satisfied: botocore<1.30.0,>=1.29.109 in /usr/local/lib/python3.8/dist-packages (from boto3) (1.29.109)\n",
            "Requirement already satisfied: python-dateutil<3.0.0,>=2.1 in /usr/local/lib/python3.8/dist-packages (from botocore<1.30.0,>=1.29.109->boto3) (2.8.2)\n",
            "Requirement already satisfied: urllib3<1.27,>=1.25.4 in /usr/local/lib/python3.8/dist-packages (from botocore<1.30.0,>=1.29.109->boto3) (1.26.14)\n",
            "Requirement already satisfied: six>=1.5 in /usr/local/lib/python3.8/dist-packages (from python-dateutil<3.0.0,>=2.1->botocore<1.30.0,>=1.29.109->boto3) (1.15.0)\n",
            "Looking in indexes: https://pypi.org/simple, https://us-python.pkg.dev/colab-wheels/public/simple/\n",
            "Requirement already satisfied: torchxrayvision in /usr/local/lib/python3.8/dist-packages (1.0.1)\n",
            "Requirement already satisfied: scikit-image>=0.16 in /usr/local/lib/python3.8/dist-packages (from torchxrayvision) (0.18.3)\n",
            "Requirement already satisfied: pillow>=5.3.0 in /usr/local/lib/python3.8/dist-packages (from torchxrayvision) (8.4.0)\n",
            "Requirement already satisfied: numpy>=1 in /usr/local/lib/python3.8/dist-packages (from torchxrayvision) (1.22.4)\n",
            "Requirement already satisfied: requests>=1 in /usr/local/lib/python3.8/dist-packages (from torchxrayvision) (2.25.1)\n",
            "Requirement already satisfied: tqdm>=4 in /usr/local/lib/python3.8/dist-packages (from torchxrayvision) (4.64.1)\n",
            "Requirement already satisfied: torch>=1 in /usr/local/lib/python3.8/dist-packages (from torchxrayvision) (1.13.1+cu116)\n",
            "Requirement already satisfied: pandas>=1 in /usr/local/lib/python3.8/dist-packages (from torchxrayvision) (1.3.5)\n",
            "Requirement already satisfied: torchvision>=0.5 in /usr/local/lib/python3.8/dist-packages (from torchxrayvision) (0.14.1+cu116)\n",
            "Requirement already satisfied: pytz>=2017.3 in /usr/local/lib/python3.8/dist-packages (from pandas>=1->torchxrayvision) (2022.7.1)\n",
            "Requirement already satisfied: python-dateutil>=2.7.3 in /usr/local/lib/python3.8/dist-packages (from pandas>=1->torchxrayvision) (2.8.2)\n",
            "Requirement already satisfied: certifi>=2017.4.17 in /usr/local/lib/python3.8/dist-packages (from requests>=1->torchxrayvision) (2022.12.7)\n",
            "Requirement already satisfied: idna<3,>=2.5 in /usr/local/lib/python3.8/dist-packages (from requests>=1->torchxrayvision) (2.10)\n",
            "Requirement already satisfied: urllib3<1.27,>=1.21.1 in /usr/local/lib/python3.8/dist-packages (from requests>=1->torchxrayvision) (1.26.14)\n",
            "Requirement already satisfied: chardet<5,>=3.0.2 in /usr/local/lib/python3.8/dist-packages (from requests>=1->torchxrayvision) (4.0.0)\n",
            "Requirement already satisfied: PyWavelets>=1.1.1 in /usr/local/lib/python3.8/dist-packages (from scikit-image>=0.16->torchxrayvision) (1.4.1)\n",
            "Requirement already satisfied: networkx>=2.0 in /usr/local/lib/python3.8/dist-packages (from scikit-image>=0.16->torchxrayvision) (3.0)\n",
            "Requirement already satisfied: imageio>=2.3.0 in /usr/local/lib/python3.8/dist-packages (from scikit-image>=0.16->torchxrayvision) (2.9.0)\n",
            "Requirement already satisfied: tifffile>=2019.7.26 in /usr/local/lib/python3.8/dist-packages (from scikit-image>=0.16->torchxrayvision) (2023.2.3)\n",
            "Requirement already satisfied: matplotlib!=3.0.0,>=2.0.0 in /usr/local/lib/python3.8/dist-packages (from scikit-image>=0.16->torchxrayvision) (3.5.3)\n",
            "Requirement already satisfied: scipy>=1.0.1 in /usr/local/lib/python3.8/dist-packages (from scikit-image>=0.16->torchxrayvision) (1.7.3)\n",
            "Requirement already satisfied: typing-extensions in /usr/local/lib/python3.8/dist-packages (from torch>=1->torchxrayvision) (4.5.0)\n",
            "Requirement already satisfied: kiwisolver>=1.0.1 in /usr/local/lib/python3.8/dist-packages (from matplotlib!=3.0.0,>=2.0.0->scikit-image>=0.16->torchxrayvision) (1.4.4)\n",
            "Requirement already satisfied: pyparsing>=2.2.1 in /usr/local/lib/python3.8/dist-packages (from matplotlib!=3.0.0,>=2.0.0->scikit-image>=0.16->torchxrayvision) (3.0.9)\n",
            "Requirement already satisfied: cycler>=0.10 in /usr/local/lib/python3.8/dist-packages (from matplotlib!=3.0.0,>=2.0.0->scikit-image>=0.16->torchxrayvision) (0.11.0)\n",
            "Requirement already satisfied: fonttools>=4.22.0 in /usr/local/lib/python3.8/dist-packages (from matplotlib!=3.0.0,>=2.0.0->scikit-image>=0.16->torchxrayvision) (4.38.0)\n",
            "Requirement already satisfied: packaging>=20.0 in /usr/local/lib/python3.8/dist-packages (from matplotlib!=3.0.0,>=2.0.0->scikit-image>=0.16->torchxrayvision) (23.0)\n",
            "Requirement already satisfied: six>=1.5 in /usr/local/lib/python3.8/dist-packages (from python-dateutil>=2.7.3->pandas>=1->torchxrayvision) (1.15.0)\n",
            "Looking in indexes: https://pypi.org/simple, https://us-python.pkg.dev/colab-wheels/public/simple/\n",
            "Requirement already satisfied: SimpleITK in /usr/local/lib/python3.8/dist-packages (2.2.1)\n",
            "Looking in indexes: https://pypi.org/simple, https://us-python.pkg.dev/colab-wheels/public/simple/\n",
            "Requirement already satisfied: radiomics in /usr/local/lib/python3.8/dist-packages (0.1)\n",
            "Requirement already satisfied: numpy in /usr/local/lib/python3.8/dist-packages (from radiomics) (1.22.4)\n",
            "Requirement already satisfied: PyWavelets in /usr/local/lib/python3.8/dist-packages (from radiomics) (1.4.1)\n",
            "Requirement already satisfied: scikit-image in /usr/local/lib/python3.8/dist-packages (from radiomics) (0.18.3)\n",
            "Requirement already satisfied: scipy in /usr/local/lib/python3.8/dist-packages (from radiomics) (1.7.3)\n",
            "Requirement already satisfied: pillow!=7.1.0,!=7.1.1,>=4.3.0 in /usr/local/lib/python3.8/dist-packages (from scikit-image->radiomics) (8.4.0)\n",
            "Requirement already satisfied: tifffile>=2019.7.26 in /usr/local/lib/python3.8/dist-packages (from scikit-image->radiomics) (2023.2.3)\n",
            "Requirement already satisfied: matplotlib!=3.0.0,>=2.0.0 in /usr/local/lib/python3.8/dist-packages (from scikit-image->radiomics) (3.5.3)\n",
            "Requirement already satisfied: networkx>=2.0 in /usr/local/lib/python3.8/dist-packages (from scikit-image->radiomics) (3.0)\n",
            "Requirement already satisfied: imageio>=2.3.0 in /usr/local/lib/python3.8/dist-packages (from scikit-image->radiomics) (2.9.0)\n",
            "Requirement already satisfied: python-dateutil>=2.7 in /usr/local/lib/python3.8/dist-packages (from matplotlib!=3.0.0,>=2.0.0->scikit-image->radiomics) (2.8.2)\n",
            "Requirement already satisfied: kiwisolver>=1.0.1 in /usr/local/lib/python3.8/dist-packages (from matplotlib!=3.0.0,>=2.0.0->scikit-image->radiomics) (1.4.4)\n",
            "Requirement already satisfied: packaging>=20.0 in /usr/local/lib/python3.8/dist-packages (from matplotlib!=3.0.0,>=2.0.0->scikit-image->radiomics) (23.0)\n",
            "Requirement already satisfied: fonttools>=4.22.0 in /usr/local/lib/python3.8/dist-packages (from matplotlib!=3.0.0,>=2.0.0->scikit-image->radiomics) (4.38.0)\n",
            "Requirement already satisfied: cycler>=0.10 in /usr/local/lib/python3.8/dist-packages (from matplotlib!=3.0.0,>=2.0.0->scikit-image->radiomics) (0.11.0)\n",
            "Requirement already satisfied: pyparsing>=2.2.1 in /usr/local/lib/python3.8/dist-packages (from matplotlib!=3.0.0,>=2.0.0->scikit-image->radiomics) (3.0.9)\n",
            "Requirement already satisfied: six>=1.5 in /usr/local/lib/python3.8/dist-packages (from python-dateutil>=2.7->matplotlib!=3.0.0,>=2.0.0->scikit-image->radiomics) (1.15.0)\n",
            "Looking in indexes: https://pypi.org/simple, https://us-python.pkg.dev/colab-wheels/public/simple/\n",
            "Requirement already satisfied: pyradiomics in /usr/local/lib/python3.8/dist-packages (3.0.1)\n",
            "Requirement already satisfied: SimpleITK>=0.9.1 in /usr/local/lib/python3.8/dist-packages (from pyradiomics) (2.2.1)\n",
            "Requirement already satisfied: six>=1.10.0 in /usr/local/lib/python3.8/dist-packages (from pyradiomics) (1.15.0)\n",
            "Requirement already satisfied: PyWavelets>=0.4.0 in /usr/local/lib/python3.8/dist-packages (from pyradiomics) (1.4.1)\n",
            "Requirement already satisfied: pykwalify>=1.6.0 in /usr/local/lib/python3.8/dist-packages (from pyradiomics) (1.8.0)\n",
            "Requirement already satisfied: numpy>=1.9.2 in /usr/local/lib/python3.8/dist-packages (from pyradiomics) (1.22.4)\n",
            "Requirement already satisfied: python-dateutil>=2.8.0 in /usr/local/lib/python3.8/dist-packages (from pykwalify>=1.6.0->pyradiomics) (2.8.2)\n",
            "Requirement already satisfied: ruamel.yaml>=0.16.0 in /usr/local/lib/python3.8/dist-packages (from pykwalify>=1.6.0->pyradiomics) (0.17.21)\n",
            "Requirement already satisfied: docopt>=0.6.2 in /usr/local/lib/python3.8/dist-packages (from pykwalify>=1.6.0->pyradiomics) (0.6.2)\n",
            "Requirement already satisfied: ruamel.yaml.clib>=0.2.6 in /usr/local/lib/python3.8/dist-packages (from ruamel.yaml>=0.16.0->pykwalify>=1.6.0->pyradiomics) (0.2.7)\n",
            "Looking in indexes: https://pypi.org/simple, https://us-python.pkg.dev/colab-wheels/public/simple/\n",
            "Requirement already satisfied: torchvision in /usr/local/lib/python3.8/dist-packages (0.14.1+cu116)\n",
            "Requirement already satisfied: requests in /usr/local/lib/python3.8/dist-packages (from torchvision) (2.25.1)\n",
            "Requirement already satisfied: pillow!=8.3.*,>=5.3.0 in /usr/local/lib/python3.8/dist-packages (from torchvision) (8.4.0)\n",
            "Requirement already satisfied: typing-extensions in /usr/local/lib/python3.8/dist-packages (from torchvision) (4.5.0)\n",
            "Requirement already satisfied: torch==1.13.1 in /usr/local/lib/python3.8/dist-packages (from torchvision) (1.13.1+cu116)\n",
            "Requirement already satisfied: numpy in /usr/local/lib/python3.8/dist-packages (from torchvision) (1.22.4)\n",
            "Requirement already satisfied: urllib3<1.27,>=1.21.1 in /usr/local/lib/python3.8/dist-packages (from requests->torchvision) (1.26.14)\n",
            "Requirement already satisfied: certifi>=2017.4.17 in /usr/local/lib/python3.8/dist-packages (from requests->torchvision) (2022.12.7)\n",
            "Requirement already satisfied: chardet<5,>=3.0.2 in /usr/local/lib/python3.8/dist-packages (from requests->torchvision) (4.0.0)\n",
            "Requirement already satisfied: idna<3,>=2.5 in /usr/local/lib/python3.8/dist-packages (from requests->torchvision) (2.10)\n"
          ]
        }
      ],
      "source": [
        "# we need the following libraries, so let's install them\n",
        "!pip install boto3\n",
        "!pip install torchxrayvision\n",
        "!pip install SimpleITK\n",
        "!pip install radiomics\n",
        "!pip install pyradiomics\n",
        "!pip install torchvision"
      ]
    },
    {
      "cell_type": "code",
      "execution_count": null,
      "metadata": {
        "colab": {
          "base_uri": "https://localhost:8080/"
        },
        "id": "U-Ycnt2U9dqz",
        "outputId": "b73abf31-19ea-4917-82bc-76339d539885"
      },
      "outputs": [
        {
          "name": "stdout",
          "output_type": "stream",
          "text": [
            "Fri May 26 00:59:15 2023       \n",
            "+-----------------------------------------------------------------------------+\n",
            "| NVIDIA-SMI 525.85.12    Driver Version: 525.85.12    CUDA Version: 12.0     |\n",
            "|-------------------------------+----------------------+----------------------+\n",
            "| GPU  Name        Persistence-M| Bus-Id        Disp.A | Volatile Uncorr. ECC |\n",
            "| Fan  Temp  Perf  Pwr:Usage/Cap|         Memory-Usage | GPU-Util  Compute M. |\n",
            "|                               |                      |               MIG M. |\n",
            "|===============================+======================+======================|\n",
            "|   0  Tesla T4            Off  | 00000000:00:04.0 Off |                    0 |\n",
            "| N/A   42C    P8    10W /  70W |      0MiB / 15360MiB |      0%      Default |\n",
            "|                               |                      |                  N/A |\n",
            "+-------------------------------+----------------------+----------------------+\n",
            "                                                                               \n",
            "+-----------------------------------------------------------------------------+\n",
            "| Processes:                                                                  |\n",
            "|  GPU   GI   CI        PID   Type   Process name                  GPU Memory |\n",
            "|        ID   ID                                                   Usage      |\n",
            "|=============================================================================|\n",
            "|  No running processes found                                                 |\n",
            "+-----------------------------------------------------------------------------+\n"
          ]
        },
        {
          "data": {
            "text/plain": [
              "True"
            ]
          },
          "execution_count": 2,
          "metadata": {},
          "output_type": "execute_result"
        }
      ],
      "source": [
        "# check if any cuda-enabled hardware is available\n",
        "!nvidia-smi\n",
        "import torch\n",
        "torch.cuda.is_available()"
      ]
    },
    {
      "cell_type": "code",
      "execution_count": null,
      "metadata": {
        "id": "qsiWs-3p00AM"
      },
      "outputs": [],
      "source": [
        "# importing libraries\n",
        "from time import time\n",
        "import numpy as np\n",
        "import pandas as pd\n",
        "from glob import glob\n",
        "import os\n",
        "import skimage\n",
        "import SimpleITK as sitk\n",
        "import skimage, torch, torchvision\n",
        "import torchxrayvision as xrv\n",
        "import torchvision\n",
        "import torchxrayvision as xrv\n",
        "import matplotlib.pyplot as plt\n",
        "from tqdm import tqdm\n",
        "\n",
        "# importing written classes and methods\n",
        "import sys\n",
        "from radiomics import featureextractor\n",
        "from radiomics import firstorder, glcm, glrlm, glszm, shape, shape2D, ngtdm, gldm\n",
        "import warnings\n",
        "import logging\n",
        "warnings.filterwarnings(\"ignore\", category=DeprecationWarning)\n",
        "# set level for all classes\n",
        "logger = logging.getLogger(\"radiomics\")\n",
        "logger.setLevel(logging.ERROR)\n",
        "# ... or set level for specific class\n",
        "logger = logging.getLogger(\"radiomics.glcm\")\n",
        "logger.setLevel(logging.ERROR)"
      ]
    },
    {
      "cell_type": "code",
      "execution_count": null,
      "metadata": {
        "id": "NrWR8ZoU2din"
      },
      "outputs": [],
      "source": [
        "# pre-defining new directories to save new files\n",
        "directory_ = '/content/sample_data/CheXpert/'\n",
        "directory_processed_images = directory_ + 'processed_images'\n",
        "directory_filterss = directory_ + 'filters'\n",
        "directory_segments = directory_ + 'segments'\n",
        "directory_cleaned_targets = directory_ + 'cleaned_targets'\n",
        "\n",
        "try:\n",
        "  os.makedirs(directory_processed_images + '/train')\n",
        "  os.makedirs(directory_processed_images + '/valid')\n",
        "except:\n",
        "  pass\n",
        "\n",
        "try:\n",
        "  os.makedirs(directory_filterss+ '/train')\n",
        "  os.makedirs(directory_filterss+ '/valid')\n",
        "except:\n",
        "  pass\n",
        "\n",
        "try:\n",
        "  os.makedirs(directory_segments+ '/train')\n",
        "  os.makedirs(directory_segments+ '/valid')\n",
        "except:\n",
        "  pass\n",
        "\n",
        "# try:\n",
        "#   os.makedirs(directory_cleaned_targets+ '/train')\n",
        "#   os.makedirs(directory_cleaned_targets+ '/valid')\n",
        "# except:\n",
        "#   pass"
      ]
    },
    {
      "cell_type": "code",
      "execution_count": null,
      "metadata": {
        "id": "9PkLnuR51UoT"
      },
      "outputs": [],
      "source": [
        "class ChestXRaySegmentation:\n",
        "    def __init__(self, image_size: int = 512, threshold: float = 0.5):\n",
        "        \"\"\"\n",
        "\n",
        "        :param image_size:\n",
        "        :param threshold:\n",
        "        \"\"\"\n",
        "        self.image_size = image_size\n",
        "        self.threshold = threshold\n",
        "        self.resizer = torchvision.transforms.Compose([xrv.datasets.XRayResizer(self.image_size)])\n",
        "        self.centerer = torchvision.transforms.Compose([xrv.datasets.XRayCenterCrop()])\n",
        "\n",
        "        def device_selector_cuda(image:np.ndarray):\n",
        "          return torch.from_numpy(image).cuda(device=\"cuda:0\")\n",
        "\n",
        "        def device_selector_cpu(image:np.ndarray):\n",
        "          return torch.from_numpy(image).cpu()\n",
        "\n",
        "        #----------------------------------------------------------------\n",
        "        print(f'device is {torch.cuda.is_available()}')\n",
        "        if torch.cuda.is_available():\n",
        "          dvc = \"cuda:0\"\n",
        "          self.model_segment = xrv.baseline_models.chestx_det.PSPNet().cuda(device=dvc)\n",
        "          self.device_selector = device_selector_cuda\n",
        "        else:\n",
        "          self.model_segment = xrv.baseline_models.chestx_det.PSPNet()\n",
        "          self.device_selector = device_selector_cpu\n",
        "        #----------------------------------------------------------------\n",
        "\n",
        "        self.normalizer = xrv.datasets.normalize\n",
        "        self.loader = skimage.io.imread\n",
        "        self.composer = torchvision.transforms.Compose\n",
        "        self.segment_names = self.model_segment.targets\n",
        "        self.num_segments = len(self.segment_names)\n",
        "        self.image = np.zeros(shape=(1, self.image_size, self.image_size))\n",
        "        self.segment_index = [4,5,8,13]\n",
        "        #self.segment_index = list(range(14))\n",
        "    def prep(self, name: str):\n",
        "        self.image = self.resizer(self.centerer(self.normalizer(self.loader(name)[:,:,0], 255)[np.newaxis, :, :]))\n",
        "        return self.device_selector(self.image)\n",
        "\n",
        "\n",
        "    def prep_segment(self, name: str):\n",
        "        with torch.no_grad(): return self.model_segment(self.prep(name=name))[:,self.segment_index,:,:]\n",
        "\n",
        "    def get_filters(self, name: str):\n",
        "        probs = 1 / (1 + torch.exp(-self.prep_segment(name=name)))  # sigmoid function\n",
        "        return torch.where(probs > self.threshold, 1.0, 0.0).cpu().numpy()\n",
        "\n",
        "    def get_filter_image(self, name: str):\n",
        "        probs = 1 / (1 + torch.exp(-self.prep_segment(name=name)))  # sigmoid function\n",
        "        return torch.where(probs > self.threshold, 1.0, 0.0).cpu().numpy(), self.image, probs.cpu().numpy()"
      ]
    },
    {
      "cell_type": "code",
      "execution_count": null,
      "metadata": {
        "colab": {
          "base_uri": "https://localhost:8080/",
          "height": 244
        },
        "id": "F5oyw3Nv_LKZ",
        "outputId": "730debfc-ad1a-4f04-8bb8-7f63c2b490ec"
      },
      "outputs": [
        {
          "name": "stdout",
          "output_type": "stream",
          "text": [
            "223648\n"
          ]
        },
        {
          "data": {
            "text/html": [
              "\n",
              "  <div id=\"df-72f7a68d-f821-4ecf-9b44-742e5fd929fd\">\n",
              "    <div class=\"colab-df-container\">\n",
              "      <div>\n",
              "<style scoped>\n",
              "    .dataframe tbody tr th:only-of-type {\n",
              "        vertical-align: middle;\n",
              "    }\n",
              "\n",
              "    .dataframe tbody tr th {\n",
              "        vertical-align: top;\n",
              "    }\n",
              "\n",
              "    .dataframe thead th {\n",
              "        text-align: right;\n",
              "    }\n",
              "</style>\n",
              "<table border=\"1\" class=\"dataframe\">\n",
              "  <thead>\n",
              "    <tr style=\"text-align: right;\">\n",
              "      <th></th>\n",
              "      <th>Path</th>\n",
              "      <th>Patient_id</th>\n",
              "      <th>Study_Number</th>\n",
              "      <th>Sex</th>\n",
              "      <th>Age</th>\n",
              "      <th>Race</th>\n",
              "      <th>Ethnicity</th>\n",
              "      <th>Frontal/Lateral</th>\n",
              "      <th>AP/PA</th>\n",
              "      <th>No Finding</th>\n",
              "      <th>...</th>\n",
              "      <th>Lung Lesion</th>\n",
              "      <th>Edema</th>\n",
              "      <th>Consolidation</th>\n",
              "      <th>Pneumonia</th>\n",
              "      <th>Atelectasis</th>\n",
              "      <th>Pneumothorax</th>\n",
              "      <th>Pleural Effusion</th>\n",
              "      <th>Pleural Other</th>\n",
              "      <th>Fracture</th>\n",
              "      <th>Support Devices</th>\n",
              "    </tr>\n",
              "  </thead>\n",
              "  <tbody>\n",
              "    <tr>\n",
              "      <th>0</th>\n",
              "      <td>CheXpert-v1.0/train/patient00001/study1/view1_...</td>\n",
              "      <td>1</td>\n",
              "      <td>1</td>\n",
              "      <td>Female</td>\n",
              "      <td>68.0</td>\n",
              "      <td>Other</td>\n",
              "      <td>Non-Hispanic/Non-Latino</td>\n",
              "      <td>Frontal</td>\n",
              "      <td>AP</td>\n",
              "      <td>1</td>\n",
              "      <td>...</td>\n",
              "      <td>0</td>\n",
              "      <td>0</td>\n",
              "      <td>0</td>\n",
              "      <td>0</td>\n",
              "      <td>0</td>\n",
              "      <td>0</td>\n",
              "      <td>0</td>\n",
              "      <td>0</td>\n",
              "      <td>0</td>\n",
              "      <td>1</td>\n",
              "    </tr>\n",
              "  </tbody>\n",
              "</table>\n",
              "<p>1 rows × 23 columns</p>\n",
              "</div>\n",
              "      <button class=\"colab-df-convert\" onclick=\"convertToInteractive('df-72f7a68d-f821-4ecf-9b44-742e5fd929fd')\"\n",
              "              title=\"Convert this dataframe to an interactive table.\"\n",
              "              style=\"display:none;\">\n",
              "        \n",
              "  <svg xmlns=\"http://www.w3.org/2000/svg\" height=\"24px\"viewBox=\"0 0 24 24\"\n",
              "       width=\"24px\">\n",
              "    <path d=\"M0 0h24v24H0V0z\" fill=\"none\"/>\n",
              "    <path d=\"M18.56 5.44l.94 2.06.94-2.06 2.06-.94-2.06-.94-.94-2.06-.94 2.06-2.06.94zm-11 1L8.5 8.5l.94-2.06 2.06-.94-2.06-.94L8.5 2.5l-.94 2.06-2.06.94zm10 10l.94 2.06.94-2.06 2.06-.94-2.06-.94-.94-2.06-.94 2.06-2.06.94z\"/><path d=\"M17.41 7.96l-1.37-1.37c-.4-.4-.92-.59-1.43-.59-.52 0-1.04.2-1.43.59L10.3 9.45l-7.72 7.72c-.78.78-.78 2.05 0 2.83L4 21.41c.39.39.9.59 1.41.59.51 0 1.02-.2 1.41-.59l7.78-7.78 2.81-2.81c.8-.78.8-2.07 0-2.86zM5.41 20L4 18.59l7.72-7.72 1.47 1.35L5.41 20z\"/>\n",
              "  </svg>\n",
              "      </button>\n",
              "      \n",
              "  <style>\n",
              "    .colab-df-container {\n",
              "      display:flex;\n",
              "      flex-wrap:wrap;\n",
              "      gap: 12px;\n",
              "    }\n",
              "\n",
              "    .colab-df-convert {\n",
              "      background-color: #E8F0FE;\n",
              "      border: none;\n",
              "      border-radius: 50%;\n",
              "      cursor: pointer;\n",
              "      display: none;\n",
              "      fill: #1967D2;\n",
              "      height: 32px;\n",
              "      padding: 0 0 0 0;\n",
              "      width: 32px;\n",
              "    }\n",
              "\n",
              "    .colab-df-convert:hover {\n",
              "      background-color: #E2EBFA;\n",
              "      box-shadow: 0px 1px 2px rgba(60, 64, 67, 0.3), 0px 1px 3px 1px rgba(60, 64, 67, 0.15);\n",
              "      fill: #174EA6;\n",
              "    }\n",
              "\n",
              "    [theme=dark] .colab-df-convert {\n",
              "      background-color: #3B4455;\n",
              "      fill: #D2E3FC;\n",
              "    }\n",
              "\n",
              "    [theme=dark] .colab-df-convert:hover {\n",
              "      background-color: #434B5C;\n",
              "      box-shadow: 0px 1px 3px 1px rgba(0, 0, 0, 0.15);\n",
              "      filter: drop-shadow(0px 1px 2px rgba(0, 0, 0, 0.3));\n",
              "      fill: #FFFFFF;\n",
              "    }\n",
              "  </style>\n",
              "\n",
              "      <script>\n",
              "        const buttonEl =\n",
              "          document.querySelector('#df-72f7a68d-f821-4ecf-9b44-742e5fd929fd button.colab-df-convert');\n",
              "        buttonEl.style.display =\n",
              "          google.colab.kernel.accessAllowed ? 'block' : 'none';\n",
              "\n",
              "        async function convertToInteractive(key) {\n",
              "          const element = document.querySelector('#df-72f7a68d-f821-4ecf-9b44-742e5fd929fd');\n",
              "          const dataTable =\n",
              "            await google.colab.kernel.invokeFunction('convertToInteractive',\n",
              "                                                     [key], {});\n",
              "          if (!dataTable) return;\n",
              "\n",
              "          const docLinkHtml = 'Like what you see? Visit the ' +\n",
              "            '<a target=\"_blank\" href=https://colab.research.google.com/notebooks/data_table.ipynb>data table notebook</a>'\n",
              "            + ' to learn more about interactive tables.';\n",
              "          element.innerHTML = '';\n",
              "          dataTable['output_type'] = 'display_data';\n",
              "          await google.colab.output.renderOutput(dataTable, element);\n",
              "          const docLink = document.createElement('div');\n",
              "          docLink.innerHTML = docLinkHtml;\n",
              "          element.appendChild(docLink);\n",
              "        }\n",
              "      </script>\n",
              "    </div>\n",
              "  </div>\n",
              "  "
            ],
            "text/plain": [
              "                                                Path  Patient_id  \\\n",
              "0  CheXpert-v1.0/train/patient00001/study1/view1_...           1   \n",
              "\n",
              "   Study_Number     Sex   Age   Race                Ethnicity Frontal/Lateral  \\\n",
              "0             1  Female  68.0  Other  Non-Hispanic/Non-Latino         Frontal   \n",
              "\n",
              "  AP/PA  No Finding  ...  Lung Lesion  Edema  Consolidation  Pneumonia  \\\n",
              "0    AP           1  ...            0      0              0          0   \n",
              "\n",
              "   Atelectasis  Pneumothorax  Pleural Effusion  Pleural Other  Fracture  \\\n",
              "0            0             0                 0              0         0   \n",
              "\n",
              "   Support Devices  \n",
              "0                1  \n",
              "\n",
              "[1 rows x 23 columns]"
            ]
          },
          "execution_count": 6,
          "metadata": {},
          "output_type": "execute_result"
        }
      ],
      "source": [
        "# reading the labels of images and printing the first row of the data\n",
        "data_path = '/content/sample_data/CheXpert/targets/metadata.csv'\n",
        "data = pd.read_csv(data_path)\n",
        "print(data.shape[0])\n",
        "data.head(1)"
      ]
    },
    {
      "cell_type": "code",
      "execution_count": null,
      "metadata": {
        "colab": {
          "base_uri": "https://localhost:8080/"
        },
        "id": "_181TGThBzWt",
        "outputId": "64fb5fc2-3ba4-4043-8e84-45bead307822"
      },
      "outputs": [
        {
          "data": {
            "text/plain": [
              "array(['AP', nan, 'PA', 'LL', 'RL'], dtype=object)"
            ]
          },
          "execution_count": 7,
          "metadata": {},
          "output_type": "execute_result"
        }
      ],
      "source": [
        "# printing all imaging position\n",
        "pd.unique(data['AP/PA'])"
      ]
    },
    {
      "cell_type": "code",
      "execution_count": null,
      "metadata": {
        "colab": {
          "base_uri": "https://localhost:8080/"
        },
        "id": "BvtHM4zn6YY1",
        "outputId": "4c3391ed-d312-4f5b-a1db-3ffe1458e561"
      },
      "outputs": [
        {
          "data": {
            "text/plain": [
              "array(['Frontal', 'Lateral'], dtype=object)"
            ]
          },
          "execution_count": 8,
          "metadata": {},
          "output_type": "execute_result"
        }
      ],
      "source": [
        "# printing all unique fronal/lateral imaging position\n",
        "pd.unique(data['Frontal/Lateral'])"
      ]
    },
    {
      "cell_type": "code",
      "execution_count": null,
      "metadata": {
        "colab": {
          "base_uri": "https://localhost:8080/"
        },
        "id": "AHaKgdLJ6jXI",
        "outputId": "6ab84805-e3fb-4866-ce4d-d16887aba49d"
      },
      "outputs": [
        {
          "data": {
            "text/plain": [
              "191212"
            ]
          },
          "execution_count": 9,
          "metadata": {},
          "output_type": "execute_result"
        }
      ],
      "source": [
        "# checking the consistency of image views\n",
        "((data['AP/PA']=='AP') | (data['AP/PA']=='PA')).sum()"
      ]
    },
    {
      "cell_type": "code",
      "execution_count": null,
      "metadata": {
        "colab": {
          "base_uri": "https://localhost:8080/"
        },
        "id": "LPeYaOXC690A",
        "outputId": "1cc4dfb4-4cdf-401f-d5c9-39ddab45eeab"
      },
      "outputs": [
        {
          "data": {
            "text/plain": [
              "191229"
            ]
          },
          "execution_count": 10,
          "metadata": {},
          "output_type": "execute_result"
        }
      ],
      "source": [
        "# counting the number of frontal images\n",
        "(data['Frontal/Lateral']=='Frontal').sum()"
      ]
    },
    {
      "cell_type": "code",
      "execution_count": null,
      "metadata": {
        "colab": {
          "base_uri": "https://localhost:8080/"
        },
        "id": "tADTjvAO7nHO",
        "outputId": "f3ca117d-4886-4346-ec3d-dca3e736474e"
      },
      "outputs": [
        {
          "data": {
            "text/plain": [
              "191212"
            ]
          },
          "execution_count": 11,
          "metadata": {},
          "output_type": "execute_result"
        }
      ],
      "source": [
        "# number of images with AP or PA and frontal labels\n",
        "(((data['AP/PA']=='AP') | (data['AP/PA']=='PA')) & (data['Frontal/Lateral']=='Frontal')).sum()"
      ]
    },
    {
      "cell_type": "code",
      "execution_count": null,
      "metadata": {
        "colab": {
          "base_uri": "https://localhost:8080/",
          "height": 328
        },
        "id": "B-uX9gqexJpO",
        "outputId": "9edfc81b-1ef1-453a-a991-519e0935249c"
      },
      "outputs": [
        {
          "name": "stdout",
          "output_type": "stream",
          "text": [
            "total samples are: 223648\n",
            "front image samples are: 191212\n"
          ]
        },
        {
          "data": {
            "text/html": [
              "\n",
              "  <div id=\"df-4da028d5-cefb-404d-a048-53a0da7bd218\">\n",
              "    <div class=\"colab-df-container\">\n",
              "      <div>\n",
              "<style scoped>\n",
              "    .dataframe tbody tr th:only-of-type {\n",
              "        vertical-align: middle;\n",
              "    }\n",
              "\n",
              "    .dataframe tbody tr th {\n",
              "        vertical-align: top;\n",
              "    }\n",
              "\n",
              "    .dataframe thead th {\n",
              "        text-align: right;\n",
              "    }\n",
              "</style>\n",
              "<table border=\"1\" class=\"dataframe\">\n",
              "  <thead>\n",
              "    <tr style=\"text-align: right;\">\n",
              "      <th></th>\n",
              "      <th>index</th>\n",
              "      <th>Path</th>\n",
              "      <th>Patient_id</th>\n",
              "      <th>Study_Number</th>\n",
              "      <th>Sex</th>\n",
              "      <th>Age</th>\n",
              "      <th>Race</th>\n",
              "      <th>Ethnicity</th>\n",
              "      <th>Frontal/Lateral</th>\n",
              "      <th>AP/PA</th>\n",
              "      <th>...</th>\n",
              "      <th>Lung Lesion</th>\n",
              "      <th>Edema</th>\n",
              "      <th>Consolidation</th>\n",
              "      <th>Pneumonia</th>\n",
              "      <th>Atelectasis</th>\n",
              "      <th>Pneumothorax</th>\n",
              "      <th>Pleural Effusion</th>\n",
              "      <th>Pleural Other</th>\n",
              "      <th>Fracture</th>\n",
              "      <th>Support Devices</th>\n",
              "    </tr>\n",
              "  </thead>\n",
              "  <tbody>\n",
              "    <tr>\n",
              "      <th>0</th>\n",
              "      <td>0</td>\n",
              "      <td>CheXpert-v1.0/train/patient00001/study1/view1_...</td>\n",
              "      <td>1</td>\n",
              "      <td>1</td>\n",
              "      <td>Female</td>\n",
              "      <td>68.0</td>\n",
              "      <td>Other</td>\n",
              "      <td>Non-Hispanic/Non-Latino</td>\n",
              "      <td>Frontal</td>\n",
              "      <td>AP</td>\n",
              "      <td>...</td>\n",
              "      <td>0</td>\n",
              "      <td>0</td>\n",
              "      <td>0</td>\n",
              "      <td>0</td>\n",
              "      <td>0</td>\n",
              "      <td>0</td>\n",
              "      <td>0</td>\n",
              "      <td>0</td>\n",
              "      <td>0</td>\n",
              "      <td>1</td>\n",
              "    </tr>\n",
              "    <tr>\n",
              "      <th>1</th>\n",
              "      <td>1</td>\n",
              "      <td>CheXpert-v1.0/train/patient00002/study2/view1_...</td>\n",
              "      <td>2</td>\n",
              "      <td>2</td>\n",
              "      <td>Female</td>\n",
              "      <td>87.0</td>\n",
              "      <td>White, non-Hispanic</td>\n",
              "      <td>Non-Hispanic/Non-Latino</td>\n",
              "      <td>Frontal</td>\n",
              "      <td>AP</td>\n",
              "      <td>...</td>\n",
              "      <td>0</td>\n",
              "      <td>-1</td>\n",
              "      <td>-1</td>\n",
              "      <td>0</td>\n",
              "      <td>-1</td>\n",
              "      <td>0</td>\n",
              "      <td>-1</td>\n",
              "      <td>0</td>\n",
              "      <td>1</td>\n",
              "      <td>0</td>\n",
              "    </tr>\n",
              "  </tbody>\n",
              "</table>\n",
              "<p>2 rows × 24 columns</p>\n",
              "</div>\n",
              "      <button class=\"colab-df-convert\" onclick=\"convertToInteractive('df-4da028d5-cefb-404d-a048-53a0da7bd218')\"\n",
              "              title=\"Convert this dataframe to an interactive table.\"\n",
              "              style=\"display:none;\">\n",
              "        \n",
              "  <svg xmlns=\"http://www.w3.org/2000/svg\" height=\"24px\"viewBox=\"0 0 24 24\"\n",
              "       width=\"24px\">\n",
              "    <path d=\"M0 0h24v24H0V0z\" fill=\"none\"/>\n",
              "    <path d=\"M18.56 5.44l.94 2.06.94-2.06 2.06-.94-2.06-.94-.94-2.06-.94 2.06-2.06.94zm-11 1L8.5 8.5l.94-2.06 2.06-.94-2.06-.94L8.5 2.5l-.94 2.06-2.06.94zm10 10l.94 2.06.94-2.06 2.06-.94-2.06-.94-.94-2.06-.94 2.06-2.06.94z\"/><path d=\"M17.41 7.96l-1.37-1.37c-.4-.4-.92-.59-1.43-.59-.52 0-1.04.2-1.43.59L10.3 9.45l-7.72 7.72c-.78.78-.78 2.05 0 2.83L4 21.41c.39.39.9.59 1.41.59.51 0 1.02-.2 1.41-.59l7.78-7.78 2.81-2.81c.8-.78.8-2.07 0-2.86zM5.41 20L4 18.59l7.72-7.72 1.47 1.35L5.41 20z\"/>\n",
              "  </svg>\n",
              "      </button>\n",
              "      \n",
              "  <style>\n",
              "    .colab-df-container {\n",
              "      display:flex;\n",
              "      flex-wrap:wrap;\n",
              "      gap: 12px;\n",
              "    }\n",
              "\n",
              "    .colab-df-convert {\n",
              "      background-color: #E8F0FE;\n",
              "      border: none;\n",
              "      border-radius: 50%;\n",
              "      cursor: pointer;\n",
              "      display: none;\n",
              "      fill: #1967D2;\n",
              "      height: 32px;\n",
              "      padding: 0 0 0 0;\n",
              "      width: 32px;\n",
              "    }\n",
              "\n",
              "    .colab-df-convert:hover {\n",
              "      background-color: #E2EBFA;\n",
              "      box-shadow: 0px 1px 2px rgba(60, 64, 67, 0.3), 0px 1px 3px 1px rgba(60, 64, 67, 0.15);\n",
              "      fill: #174EA6;\n",
              "    }\n",
              "\n",
              "    [theme=dark] .colab-df-convert {\n",
              "      background-color: #3B4455;\n",
              "      fill: #D2E3FC;\n",
              "    }\n",
              "\n",
              "    [theme=dark] .colab-df-convert:hover {\n",
              "      background-color: #434B5C;\n",
              "      box-shadow: 0px 1px 3px 1px rgba(0, 0, 0, 0.15);\n",
              "      filter: drop-shadow(0px 1px 2px rgba(0, 0, 0, 0.3));\n",
              "      fill: #FFFFFF;\n",
              "    }\n",
              "  </style>\n",
              "\n",
              "      <script>\n",
              "        const buttonEl =\n",
              "          document.querySelector('#df-4da028d5-cefb-404d-a048-53a0da7bd218 button.colab-df-convert');\n",
              "        buttonEl.style.display =\n",
              "          google.colab.kernel.accessAllowed ? 'block' : 'none';\n",
              "\n",
              "        async function convertToInteractive(key) {\n",
              "          const element = document.querySelector('#df-4da028d5-cefb-404d-a048-53a0da7bd218');\n",
              "          const dataTable =\n",
              "            await google.colab.kernel.invokeFunction('convertToInteractive',\n",
              "                                                     [key], {});\n",
              "          if (!dataTable) return;\n",
              "\n",
              "          const docLinkHtml = 'Like what you see? Visit the ' +\n",
              "            '<a target=\"_blank\" href=https://colab.research.google.com/notebooks/data_table.ipynb>data table notebook</a>'\n",
              "            + ' to learn more about interactive tables.';\n",
              "          element.innerHTML = '';\n",
              "          dataTable['output_type'] = 'display_data';\n",
              "          await google.colab.output.renderOutput(dataTable, element);\n",
              "          const docLink = document.createElement('div');\n",
              "          docLink.innerHTML = docLinkHtml;\n",
              "          element.appendChild(docLink);\n",
              "        }\n",
              "      </script>\n",
              "    </div>\n",
              "  </div>\n",
              "  "
            ],
            "text/plain": [
              "   index                                               Path  Patient_id  \\\n",
              "0      0  CheXpert-v1.0/train/patient00001/study1/view1_...           1   \n",
              "1      1  CheXpert-v1.0/train/patient00002/study2/view1_...           2   \n",
              "\n",
              "   Study_Number     Sex   Age                 Race                Ethnicity  \\\n",
              "0             1  Female  68.0                Other  Non-Hispanic/Non-Latino   \n",
              "1             2  Female  87.0  White, non-Hispanic  Non-Hispanic/Non-Latino   \n",
              "\n",
              "  Frontal/Lateral AP/PA  ...  Lung Lesion  Edema  Consolidation  Pneumonia  \\\n",
              "0         Frontal    AP  ...            0      0              0          0   \n",
              "1         Frontal    AP  ...            0     -1             -1          0   \n",
              "\n",
              "   Atelectasis  Pneumothorax  Pleural Effusion  Pleural Other  Fracture  \\\n",
              "0            0             0                 0              0         0   \n",
              "1           -1             0                -1              0         1   \n",
              "\n",
              "   Support Devices  \n",
              "0                1  \n",
              "1                0  \n",
              "\n",
              "[2 rows x 24 columns]"
            ]
          },
          "execution_count": 12,
          "metadata": {},
          "output_type": "execute_result"
        }
      ],
      "source": [
        "# filtering all lateral images\n",
        "meta_data_target = pd.read_csv('/content/sample_data/CheXpert/targets/metadata.csv')\n",
        "meta_data_target.head(2)\n",
        "N_all_samples = meta_data_target.shape[0]\n",
        "print(f'total samples are: {N_all_samples}')\n",
        "mask_lateral_samples = (((meta_data_target['AP/PA']=='AP') | (meta_data_target['AP/PA']=='PA')) & (meta_data_target['Frontal/Lateral']=='Frontal'))\n",
        "n_images = mask_lateral_samples.sum()\n",
        "print(f'front image samples are: {n_images}')\n",
        "truncated_target_data = meta_data_target[mask_lateral_samples]\n",
        "truncated_target_data.reset_index(inplace=True)\n",
        "truncated_target_data.head(2)"
      ]
    },
    {
      "cell_type": "code",
      "execution_count": null,
      "metadata": {
        "id": "Y8e5sTwzydYd"
      },
      "outputs": [],
      "source": [
        "# getting the name of all variables saved into the loaded dataframe\n",
        "all_columns = list(truncated_target_data)"
      ]
    },
    {
      "cell_type": "code",
      "execution_count": null,
      "metadata": {
        "id": "lRSyrjtJyqj4"
      },
      "outputs": [],
      "source": [
        "# the name of all segments\n",
        "segment_names = ['Left Clavicle',\n",
        "                  'Right Clavicle',\n",
        "                  'Left Scapula',\n",
        "                  'Right Scapula',\n",
        "                  'Left Lung',\n",
        "                  'Right Lung',\n",
        "                  'Left Hilus Pulmonis',\n",
        "                  'Right Hilus Pulmonis',\n",
        "                  'Heart',\n",
        "                  'Aorta',\n",
        "                  'Facies Diaphragmatica',\n",
        "                  'Mediastinum',\n",
        "                  'Weasand',\n",
        "                  'Spine'\n",
        "                  ]"
      ]
    },
    {
      "cell_type": "code",
      "execution_count": null,
      "metadata": {
        "id": "HKAcgMLE9a5B"
      },
      "outputs": [],
      "source": [
        "# save all target variables in a dictionary format\n",
        "targets = {}\n",
        "for col  in all_columns:\n",
        "  targets.update({col:truncated_target_data[col].values})\n",
        "np.save(directory_cleaned_targets + '/new_targets.npy',targets)"
      ]
    },
    {
      "cell_type": "code",
      "execution_count": null,
      "metadata": {
        "colab": {
          "base_uri": "https://localhost:8080/"
        },
        "id": "biCuRBBazRic",
        "outputId": "d9b4eafe-c520-4ca1-ad11-2f1125a942e7"
      },
      "outputs": [
        {
          "name": "stdout",
          "output_type": "stream",
          "text": [
            "device is True\n"
          ]
        },
        {
          "name": "stderr",
          "output_type": "stream",
          "text": [
            "100%|██████████| 191212/191212 [9:34:13<00:00,  5.55it/s]\n"
          ]
        }
      ],
      "source": [
        "# image segmentation and saving processed images, their segments, and the extracted segment filters\n",
        "segmenter = ChestXRaySegmentation(image_size=512,threshold=0.5)\n",
        "base_path = '/content/sample_data/CheXpert/images'\n",
        "n_error = 0\n",
        "for  n in tqdm(range(n_images)):\n",
        "  try:\n",
        "    location = truncated_target_data['Path'][n].split('CheXpert-v1.0')[1]\n",
        "    sp1 = location.split('/')\n",
        "\n",
        "    picture_name = sp1[1] + '__' + sp1[2] + '__' + sp1[3] + '__' + sp1[4].split('.jpg')[0]\n",
        "    filters,image,segments = segmenter.get_filter_image(base_path+location)\n",
        "\n",
        "    np.save(directory_filterss + '/' +picture_name+'__filters.npy',filters),  np.save(directory_processed_images + '/' +picture_name+'__image.npy',image)\n",
        "  #,  np.save(directory_segments + '/' +picture_name+'__segments.npy',segments)\n",
        "  except:\n",
        "    n_error +=1"
      ]
    }
  ],
  "metadata": {
    "accelerator": "GPU",
    "colab": {
      "provenance": []
    },
    "gpuClass": "standard",
    "kernelspec": {
      "display_name": "Python 3",
      "name": "python3"
    },
    "language_info": {
      "name": "python"
    }
  },
  "nbformat": 4,
  "nbformat_minor": 0
}

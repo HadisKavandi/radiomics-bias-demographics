{
  "cells": [
    {
      "cell_type": "code",
      "execution_count": null,
      "metadata": {
        "colab": {
          "base_uri": "https://localhost:8080/"
        },
        "id": "BakfXv4K0rmy",
        "outputId": "61632091-caae-4cc1-d9d2-506a0f1ceb9e"
      },
      "outputs": [
        {
          "name": "stdout",
          "output_type": "stream",
          "text": [
            "Looking in indexes: https://pypi.org/simple, https://us-python.pkg.dev/colab-wheels/public/simple/\n",
            "Requirement already satisfied: boto3 in /usr/local/lib/python3.8/dist-packages (1.26.109)\n",
            "Requirement already satisfied: jmespath<2.0.0,>=0.7.1 in /usr/local/lib/python3.8/dist-packages (from boto3) (1.0.1)\n",
            "Requirement already satisfied: s3transfer<0.7.0,>=0.6.0 in /usr/local/lib/python3.8/dist-packages (from boto3) (0.6.0)\n",
            "Requirement already satisfied: botocore<1.30.0,>=1.29.109 in /usr/local/lib/python3.8/dist-packages (from boto3) (1.29.109)\n",
            "Requirement already satisfied: urllib3<1.27,>=1.25.4 in /usr/local/lib/python3.8/dist-packages (from botocore<1.30.0,>=1.29.109->boto3) (1.26.14)\n",
            "Requirement already satisfied: python-dateutil<3.0.0,>=2.1 in /usr/local/lib/python3.8/dist-packages (from botocore<1.30.0,>=1.29.109->boto3) (2.8.2)\n",
            "Requirement already satisfied: six>=1.5 in /usr/local/lib/python3.8/dist-packages (from python-dateutil<3.0.0,>=2.1->botocore<1.30.0,>=1.29.109->boto3) (1.15.0)\n",
            "Looking in indexes: https://pypi.org/simple, https://us-python.pkg.dev/colab-wheels/public/simple/\n",
            "Requirement already satisfied: torchxrayvision in /usr/local/lib/python3.8/dist-packages (1.0.1)\n",
            "Requirement already satisfied: scikit-image>=0.16 in /usr/local/lib/python3.8/dist-packages (from torchxrayvision) (0.18.3)\n",
            "Requirement already satisfied: pillow>=5.3.0 in /usr/local/lib/python3.8/dist-packages (from torchxrayvision) (8.4.0)\n",
            "Requirement already satisfied: torch>=1 in /usr/local/lib/python3.8/dist-packages (from torchxrayvision) (1.13.1+cu116)\n",
            "Requirement already satisfied: torchvision>=0.5 in /usr/local/lib/python3.8/dist-packages (from torchxrayvision) (0.14.1+cu116)\n",
            "Requirement already satisfied: pandas>=1 in /usr/local/lib/python3.8/dist-packages (from torchxrayvision) (1.3.5)\n",
            "Requirement already satisfied: tqdm>=4 in /usr/local/lib/python3.8/dist-packages (from torchxrayvision) (4.64.1)\n",
            "Requirement already satisfied: requests>=1 in /usr/local/lib/python3.8/dist-packages (from torchxrayvision) (2.25.1)\n",
            "Requirement already satisfied: numpy>=1 in /usr/local/lib/python3.8/dist-packages (from torchxrayvision) (1.22.4)\n",
            "Requirement already satisfied: pytz>=2017.3 in /usr/local/lib/python3.8/dist-packages (from pandas>=1->torchxrayvision) (2022.7.1)\n",
            "Requirement already satisfied: python-dateutil>=2.7.3 in /usr/local/lib/python3.8/dist-packages (from pandas>=1->torchxrayvision) (2.8.2)\n",
            "Requirement already satisfied: chardet<5,>=3.0.2 in /usr/local/lib/python3.8/dist-packages (from requests>=1->torchxrayvision) (4.0.0)\n",
            "Requirement already satisfied: idna<3,>=2.5 in /usr/local/lib/python3.8/dist-packages (from requests>=1->torchxrayvision) (2.10)\n",
            "Requirement already satisfied: urllib3<1.27,>=1.21.1 in /usr/local/lib/python3.8/dist-packages (from requests>=1->torchxrayvision) (1.26.14)\n",
            "Requirement already satisfied: certifi>=2017.4.17 in /usr/local/lib/python3.8/dist-packages (from requests>=1->torchxrayvision) (2022.12.7)\n",
            "Requirement already satisfied: PyWavelets>=1.1.1 in /usr/local/lib/python3.8/dist-packages (from scikit-image>=0.16->torchxrayvision) (1.4.1)\n",
            "Requirement already satisfied: imageio>=2.3.0 in /usr/local/lib/python3.8/dist-packages (from scikit-image>=0.16->torchxrayvision) (2.9.0)\n",
            "Requirement already satisfied: scipy>=1.0.1 in /usr/local/lib/python3.8/dist-packages (from scikit-image>=0.16->torchxrayvision) (1.7.3)\n",
            "Requirement already satisfied: matplotlib!=3.0.0,>=2.0.0 in /usr/local/lib/python3.8/dist-packages (from scikit-image>=0.16->torchxrayvision) (3.5.3)\n",
            "Requirement already satisfied: tifffile>=2019.7.26 in /usr/local/lib/python3.8/dist-packages (from scikit-image>=0.16->torchxrayvision) (2023.2.3)\n",
            "Requirement already satisfied: networkx>=2.0 in /usr/local/lib/python3.8/dist-packages (from scikit-image>=0.16->torchxrayvision) (3.0)\n",
            "Requirement already satisfied: typing-extensions in /usr/local/lib/python3.8/dist-packages (from torch>=1->torchxrayvision) (4.5.0)\n",
            "Requirement already satisfied: kiwisolver>=1.0.1 in /usr/local/lib/python3.8/dist-packages (from matplotlib!=3.0.0,>=2.0.0->scikit-image>=0.16->torchxrayvision) (1.4.4)\n",
            "Requirement already satisfied: cycler>=0.10 in /usr/local/lib/python3.8/dist-packages (from matplotlib!=3.0.0,>=2.0.0->scikit-image>=0.16->torchxrayvision) (0.11.0)\n",
            "Requirement already satisfied: fonttools>=4.22.0 in /usr/local/lib/python3.8/dist-packages (from matplotlib!=3.0.0,>=2.0.0->scikit-image>=0.16->torchxrayvision) (4.38.0)\n",
            "Requirement already satisfied: packaging>=20.0 in /usr/local/lib/python3.8/dist-packages (from matplotlib!=3.0.0,>=2.0.0->scikit-image>=0.16->torchxrayvision) (23.0)\n",
            "Requirement already satisfied: pyparsing>=2.2.1 in /usr/local/lib/python3.8/dist-packages (from matplotlib!=3.0.0,>=2.0.0->scikit-image>=0.16->torchxrayvision) (3.0.9)\n",
            "Requirement already satisfied: six>=1.5 in /usr/local/lib/python3.8/dist-packages (from python-dateutil>=2.7.3->pandas>=1->torchxrayvision) (1.15.0)\n",
            "Looking in indexes: https://pypi.org/simple, https://us-python.pkg.dev/colab-wheels/public/simple/\n",
            "Requirement already satisfied: SimpleITK in /usr/local/lib/python3.8/dist-packages (2.2.1)\n",
            "Looking in indexes: https://pypi.org/simple, https://us-python.pkg.dev/colab-wheels/public/simple/\n",
            "Requirement already satisfied: radiomics in /usr/local/lib/python3.8/dist-packages (0.1)\n",
            "Requirement already satisfied: scikit-image in /usr/local/lib/python3.8/dist-packages (from radiomics) (0.18.3)\n",
            "Requirement already satisfied: PyWavelets in /usr/local/lib/python3.8/dist-packages (from radiomics) (1.4.1)\n",
            "Requirement already satisfied: numpy in /usr/local/lib/python3.8/dist-packages (from radiomics) (1.22.4)\n",
            "Requirement already satisfied: scipy in /usr/local/lib/python3.8/dist-packages (from radiomics) (1.7.3)\n",
            "Requirement already satisfied: matplotlib!=3.0.0,>=2.0.0 in /usr/local/lib/python3.8/dist-packages (from scikit-image->radiomics) (3.5.3)\n",
            "Requirement already satisfied: networkx>=2.0 in /usr/local/lib/python3.8/dist-packages (from scikit-image->radiomics) (3.0)\n",
            "Requirement already satisfied: tifffile>=2019.7.26 in /usr/local/lib/python3.8/dist-packages (from scikit-image->radiomics) (2023.2.3)\n",
            "Requirement already satisfied: imageio>=2.3.0 in /usr/local/lib/python3.8/dist-packages (from scikit-image->radiomics) (2.9.0)\n",
            "Requirement already satisfied: pillow!=7.1.0,!=7.1.1,>=4.3.0 in /usr/local/lib/python3.8/dist-packages (from scikit-image->radiomics) (8.4.0)\n",
            "Requirement already satisfied: fonttools>=4.22.0 in /usr/local/lib/python3.8/dist-packages (from matplotlib!=3.0.0,>=2.0.0->scikit-image->radiomics) (4.38.0)\n",
            "Requirement already satisfied: cycler>=0.10 in /usr/local/lib/python3.8/dist-packages (from matplotlib!=3.0.0,>=2.0.0->scikit-image->radiomics) (0.11.0)\n",
            "Requirement already satisfied: kiwisolver>=1.0.1 in /usr/local/lib/python3.8/dist-packages (from matplotlib!=3.0.0,>=2.0.0->scikit-image->radiomics) (1.4.4)\n",
            "Requirement already satisfied: packaging>=20.0 in /usr/local/lib/python3.8/dist-packages (from matplotlib!=3.0.0,>=2.0.0->scikit-image->radiomics) (23.0)\n",
            "Requirement already satisfied: pyparsing>=2.2.1 in /usr/local/lib/python3.8/dist-packages (from matplotlib!=3.0.0,>=2.0.0->scikit-image->radiomics) (3.0.9)\n",
            "Requirement already satisfied: python-dateutil>=2.7 in /usr/local/lib/python3.8/dist-packages (from matplotlib!=3.0.0,>=2.0.0->scikit-image->radiomics) (2.8.2)\n",
            "Requirement already satisfied: six>=1.5 in /usr/local/lib/python3.8/dist-packages (from python-dateutil>=2.7->matplotlib!=3.0.0,>=2.0.0->scikit-image->radiomics) (1.15.0)\n",
            "Looking in indexes: https://pypi.org/simple, https://us-python.pkg.dev/colab-wheels/public/simple/\n",
            "Requirement already satisfied: pyradiomics in /usr/local/lib/python3.8/dist-packages (3.0.1)\n",
            "Requirement already satisfied: PyWavelets>=0.4.0 in /usr/local/lib/python3.8/dist-packages (from pyradiomics) (1.4.1)\n",
            "Requirement already satisfied: six>=1.10.0 in /usr/local/lib/python3.8/dist-packages (from pyradiomics) (1.15.0)\n",
            "Requirement already satisfied: numpy>=1.9.2 in /usr/local/lib/python3.8/dist-packages (from pyradiomics) (1.22.4)\n",
            "Requirement already satisfied: SimpleITK>=0.9.1 in /usr/local/lib/python3.8/dist-packages (from pyradiomics) (2.2.1)\n",
            "Requirement already satisfied: pykwalify>=1.6.0 in /usr/local/lib/python3.8/dist-packages (from pyradiomics) (1.8.0)\n",
            "Requirement already satisfied: docopt>=0.6.2 in /usr/local/lib/python3.8/dist-packages (from pykwalify>=1.6.0->pyradiomics) (0.6.2)\n",
            "Requirement already satisfied: python-dateutil>=2.8.0 in /usr/local/lib/python3.8/dist-packages (from pykwalify>=1.6.0->pyradiomics) (2.8.2)\n",
            "Requirement already satisfied: ruamel.yaml>=0.16.0 in /usr/local/lib/python3.8/dist-packages (from pykwalify>=1.6.0->pyradiomics) (0.17.21)\n",
            "Requirement already satisfied: ruamel.yaml.clib>=0.2.6 in /usr/local/lib/python3.8/dist-packages (from ruamel.yaml>=0.16.0->pykwalify>=1.6.0->pyradiomics) (0.2.7)\n",
            "Looking in indexes: https://pypi.org/simple, https://us-python.pkg.dev/colab-wheels/public/simple/\n",
            "Requirement already satisfied: torchvision in /usr/local/lib/python3.8/dist-packages (0.14.1+cu116)\n",
            "Requirement already satisfied: torch==1.13.1 in /usr/local/lib/python3.8/dist-packages (from torchvision) (1.13.1+cu116)\n",
            "Requirement already satisfied: requests in /usr/local/lib/python3.8/dist-packages (from torchvision) (2.25.1)\n",
            "Requirement already satisfied: numpy in /usr/local/lib/python3.8/dist-packages (from torchvision) (1.22.4)\n",
            "Requirement already satisfied: pillow!=8.3.*,>=5.3.0 in /usr/local/lib/python3.8/dist-packages (from torchvision) (8.4.0)\n",
            "Requirement already satisfied: typing-extensions in /usr/local/lib/python3.8/dist-packages (from torchvision) (4.5.0)\n",
            "Requirement already satisfied: urllib3<1.27,>=1.21.1 in /usr/local/lib/python3.8/dist-packages (from requests->torchvision) (1.26.14)\n",
            "Requirement already satisfied: idna<3,>=2.5 in /usr/local/lib/python3.8/dist-packages (from requests->torchvision) (2.10)\n",
            "Requirement already satisfied: certifi>=2017.4.17 in /usr/local/lib/python3.8/dist-packages (from requests->torchvision) (2022.12.7)\n",
            "Requirement already satisfied: chardet<5,>=3.0.2 in /usr/local/lib/python3.8/dist-packages (from requests->torchvision) (4.0.0)\n"
          ]
        }
      ],
      "source": [
        "# we need the following libraries, so let's install them\n",
        "!pip install boto3\n",
        "!pip install torchxrayvision\n",
        "!pip install SimpleITK\n",
        "!pip install radiomics\n",
        "!pip install pyradiomics\n",
        "!pip install torchvision"
      ]
    },
    {
      "cell_type": "code",
      "execution_count": null,
      "metadata": {
        "colab": {
          "base_uri": "https://localhost:8080/"
        },
        "id": "U-Ycnt2U9dqz",
        "outputId": "51765c44-1398-4a6d-977e-33728106a324"
      },
      "outputs": [
        {
          "name": "stdout",
          "output_type": "stream",
          "text": [
            "Fri May  5 03:09:18 2023       \n",
            "+-----------------------------------------------------------------------------+\n",
            "| NVIDIA-SMI 525.85.12    Driver Version: 525.85.12    CUDA Version: 12.0     |\n",
            "|-------------------------------+----------------------+----------------------+\n",
            "| GPU  Name        Persistence-M| Bus-Id        Disp.A | Volatile Uncorr. ECC |\n",
            "| Fan  Temp  Perf  Pwr:Usage/Cap|         Memory-Usage | GPU-Util  Compute M. |\n",
            "|                               |                      |               MIG M. |\n",
            "|===============================+======================+======================|\n",
            "|   0  Tesla T4            Off  | 00000000:00:04.0 Off |                    0 |\n",
            "| N/A   38C    P8     9W /  70W |      0MiB / 15360MiB |      0%      Default |\n",
            "|                               |                      |                  N/A |\n",
            "+-------------------------------+----------------------+----------------------+\n",
            "                                                                               \n",
            "+-----------------------------------------------------------------------------+\n",
            "| Processes:                                                                  |\n",
            "|  GPU   GI   CI        PID   Type   Process name                  GPU Memory |\n",
            "|        ID   ID                                                   Usage      |\n",
            "|=============================================================================|\n",
            "|  No running processes found                                                 |\n",
            "+-----------------------------------------------------------------------------+\n"
          ]
        },
        {
          "data": {
            "text/plain": [
              "True"
            ]
          },
          "execution_count": 3,
          "metadata": {},
          "output_type": "execute_result"
        }
      ],
      "source": [
        "# checking for the avaialblity of cude-enabled hardware\n",
        "!nvidia-smi\n",
        "import torch\n",
        "torch.cuda.is_available()"
      ]
    },
    {
      "cell_type": "code",
      "execution_count": null,
      "metadata": {
        "id": "qsiWs-3p00AM"
      },
      "outputs": [],
      "source": [
        "# importing libraries\n",
        "from time import time\n",
        "import numpy as np\n",
        "import pandas as pd\n",
        "from glob import glob\n",
        "import os\n",
        "import skimage\n",
        "import SimpleITK as sitk\n",
        "import skimage, torchvision\n",
        "import torchxrayvision as xrv\n",
        "import torchvision\n",
        "import torchxrayvision as xrv\n",
        "import matplotlib.pyplot as plt\n",
        "from tqdm import tqdm\n",
        "# importing written classes and methods\n",
        "import sys\n",
        "from radiomics import featureextractor\n",
        "from radiomics import firstorder, glcm, glrlm, glszm, shape, shape2D, ngtdm, gldm\n",
        "import warnings\n",
        "import logging\n",
        "\n",
        "#------------------------------------------------------------------------------\n",
        "# deactivating any warning raiseed by the follwoing moduule\n",
        "warnings.filterwarnings(\"ignore\", category=DeprecationWarning)\n",
        "# set level for all classes\n",
        "logger = logging.getLogger(\"radiomics\")\n",
        "logger.setLevel(logging.ERROR)\n",
        "# ... or set level for specific class\n",
        "logger = logging.getLogger(\"radiomics.glcm\")\n",
        "logger.setLevel(logging.ERROR)"
      ]
    },
    {
      "cell_type": "code",
      "execution_count": null,
      "metadata": {
        "id": "NrWR8ZoU2din"
      },
      "outputs": [],
      "source": [
        "directory_ = '/content/sample_data/MIMIC/'\n",
        "directory_processed_images = directory_ + 'processed_images'\n",
        "directory_filterss = directory_ + 'filters'\n",
        "directory_segments = directory_ + 'segments'\n",
        "directory_cleaned_targets = directory_ + 'cleaned_targets'\n",
        "\n",
        "# since already the above paths are avaialbe, the follwoing code is not necessary\n",
        "# try:\n",
        "#   os.makedirs(directory_processed_images)\n",
        "# except:\n",
        "#   pass\n",
        "\n",
        "# try:\n",
        "#   os.makedirs(directory_filterss)\n",
        "# except:\n",
        "#   pass\n",
        "\n",
        "# try:\n",
        "#   os.makedirs(directory_segments)\n",
        "# except:\n",
        "#   pass\n",
        "\n",
        "# try:\n",
        "#   os.makedirs(directory_cleaned_targets)\n",
        "# except:\n",
        "#   pass"
      ]
    },
    {
      "cell_type": "code",
      "execution_count": null,
      "metadata": {
        "id": "9PkLnuR51UoT"
      },
      "outputs": [],
      "source": [
        "# the main code used for image segmentation\n",
        "\n",
        "class ChestXRaySegmentation:\n",
        "    def __init__(self, image_size: int = 512, threshold: float = 0.5):\n",
        "        \"\"\"\n",
        "        code inputs:\n",
        "        :param image_size: by default 512x512 is selcted\n",
        "        :param threshold: The probability value in whcih the lower values are set to 0 and higher values are set to 1\n",
        "        \"\"\"\n",
        "        self.image_size = image_size\n",
        "        self.threshold = threshold\n",
        "        self.resizer = torchvision.transforms.Compose([xrv.datasets.XRayResizer(self.image_size)]) # the command used for resizing the image\n",
        "        self.centerer = torchvision.transforms.Compose([xrv.datasets.XRayCenterCrop()])   # command used for cropping the image\n",
        "\n",
        "        def device_selector_cuda(image:np.ndarray): # if gpu is avaialbel run on gpu\n",
        "          return torch.from_numpy(image).cuda(device=\"cuda:0\")\n",
        "\n",
        "        def device_selector_cpu(image:np.ndarray):  # if cpu is available run on cpu\n",
        "          return torch.from_numpy(image).cpu()\n",
        "\n",
        "        #---------------to check whether cpu or gpus are availeble (gpu has priority)-------------------------------------------------\n",
        "        print(f'device is {torch.cuda.is_available()}')\n",
        "        if torch.cuda.is_available(): #  is gpu avaialbe?\n",
        "          dvc = \"cuda:0\"\n",
        "          self.model_segment = xrv.baseline_models.chestx_det.PSPNet().cuda(device=dvc)\n",
        "          self.device_selector = device_selector_cuda\n",
        "        else: # if gpu is not avaialbe the pspnet model is loaded on cpu\n",
        "          self.model_segment = xrv.baseline_models.chestx_det.PSPNet()\n",
        "          self.device_selector = device_selector_cpu\n",
        "        #----------------------------------------------------------------\n",
        "        self.normalizer = xrv.datasets.normalize  # used to normalized the intensity of images\n",
        "        self.loader = skimage.io.imread           # command used to load images\n",
        "        self.composer = torchvision.transforms.Compose  # used to perform all preprocesses at the same  time\n",
        "        self.segment_names = self.model_segment.targets\n",
        "        self.num_segments = len(self.segment_names) # all number of segments which are 14\n",
        "        self.image = np.zeros(shape=(1, self.image_size, self.image_size)) # preallocating an image\n",
        "        self.segment_index = [4,5,8,13] # the selected indexes of segments (left and right lungs, heart, and spine)\n",
        "        #self.segment_index = list(range(14))\n",
        "    def prep(self, name: str): # perform all preprocessing (normalization, cropping, loading, centering)\n",
        "        self.image = self.resizer(self.centerer(self.normalizer(self.loader(name)[:,:,0], 255)[np.newaxis, :, :]))\n",
        "        return self.device_selector(self.image)\n",
        "\n",
        "\n",
        "    def prep_segment(self, name: str): # segment the image\n",
        "        with torch.no_grad(): return self.model_segment(self.prep(name=name))[:,self.segment_index,:,:]\n",
        "\n",
        "    def get_filters(self, name: str): # gives the mattrix of 0 and 1 as the filter of each segments\n",
        "        probs = 1 / (1 + torch.exp(-self.prep_segment(name=name)))  # sigmoid function is used to get probability of each pixel\n",
        "        return torch.where(probs > self.threshold, 1.0, 0.0).cpu().numpy()\n",
        "\n",
        "    def get_filter_image(self, name: str): # it gives both filter and processed image\n",
        "        probs = 1 / (1 + torch.exp(-self.prep_segment(name=name)))  # sigmoid function\n",
        "        return torch.where(probs > self.threshold, 1.0, 0.0).cpu().numpy(), self.image, probs.cpu().numpy()"
      ]
    },
    {
      "cell_type": "code",
      "execution_count": null,
      "metadata": {
        "colab": {
          "base_uri": "https://localhost:8080/",
          "height": 398
        },
        "id": "B-uX9gqexJpO",
        "outputId": "f4f3bcc4-b89b-4f14-c1aa-607615444e58"
      },
      "outputs": [
        {
          "name": "stdout",
          "output_type": "stream",
          "text": [
            "total samples are: 377095\n",
            "front image samples are: 243324\n"
          ]
        },
        {
          "data": {
            "text/html": [
              "\n",
              "  <div id=\"df-10165294-ed9a-4a6f-9a2d-585faaea8ffe\">\n",
              "    <div class=\"colab-df-container\">\n",
              "      <div>\n",
              "<style scoped>\n",
              "    .dataframe tbody tr th:only-of-type {\n",
              "        vertical-align: middle;\n",
              "    }\n",
              "\n",
              "    .dataframe tbody tr th {\n",
              "        vertical-align: top;\n",
              "    }\n",
              "\n",
              "    .dataframe thead th {\n",
              "        text-align: right;\n",
              "    }\n",
              "</style>\n",
              "<table border=\"1\" class=\"dataframe\">\n",
              "  <thead>\n",
              "    <tr style=\"text-align: right;\">\n",
              "      <th></th>\n",
              "      <th>index</th>\n",
              "      <th>path</th>\n",
              "      <th>subject_id</th>\n",
              "      <th>study_id</th>\n",
              "      <th>dicom_id</th>\n",
              "      <th>PerformedProcedureStepDescription</th>\n",
              "      <th>ViewPosition</th>\n",
              "      <th>ProcedureCodeSequence_CodeMeaning</th>\n",
              "      <th>ViewCodeSequence_CodeMeaning</th>\n",
              "      <th>Race</th>\n",
              "      <th>...</th>\n",
              "      <th>Edema</th>\n",
              "      <th>Enlarged Cardiomediastinum</th>\n",
              "      <th>Fracture</th>\n",
              "      <th>Lung Lesion</th>\n",
              "      <th>Lung Opacity</th>\n",
              "      <th>Pleural Effusion</th>\n",
              "      <th>Pleural Other</th>\n",
              "      <th>Pneumonia</th>\n",
              "      <th>Pneumothorax</th>\n",
              "      <th>Support Devices</th>\n",
              "    </tr>\n",
              "  </thead>\n",
              "  <tbody>\n",
              "    <tr>\n",
              "      <th>0</th>\n",
              "      <td>0</td>\n",
              "      <td>files/p10/p10000032/s50414267/02aa804e-bde0afd...</td>\n",
              "      <td>10000032</td>\n",
              "      <td>50414267</td>\n",
              "      <td>02aa804e-bde0afdd-112c0b34-7bc16630-4e384014</td>\n",
              "      <td>CHEST (PA AND LAT)</td>\n",
              "      <td>PA</td>\n",
              "      <td>CHEST (PA AND LAT)</td>\n",
              "      <td>postero-anterior</td>\n",
              "      <td>WHITE</td>\n",
              "      <td>...</td>\n",
              "      <td>0.0</td>\n",
              "      <td>0.0</td>\n",
              "      <td>0.0</td>\n",
              "      <td>0.0</td>\n",
              "      <td>0.0</td>\n",
              "      <td>0.0</td>\n",
              "      <td>0.0</td>\n",
              "      <td>0.0</td>\n",
              "      <td>0.0</td>\n",
              "      <td>0.0</td>\n",
              "    </tr>\n",
              "    <tr>\n",
              "      <th>1</th>\n",
              "      <td>2</td>\n",
              "      <td>files/p10/p10000032/s53189527/2a2277a9-b0ded15...</td>\n",
              "      <td>10000032</td>\n",
              "      <td>53189527</td>\n",
              "      <td>2a2277a9-b0ded155-c0de8eb9-c124d10e-82c5caab</td>\n",
              "      <td>CHEST (PA AND LAT)</td>\n",
              "      <td>PA</td>\n",
              "      <td>CHEST (PA AND LAT)</td>\n",
              "      <td>postero-anterior</td>\n",
              "      <td>WHITE</td>\n",
              "      <td>...</td>\n",
              "      <td>0.0</td>\n",
              "      <td>0.0</td>\n",
              "      <td>0.0</td>\n",
              "      <td>0.0</td>\n",
              "      <td>0.0</td>\n",
              "      <td>0.0</td>\n",
              "      <td>0.0</td>\n",
              "      <td>0.0</td>\n",
              "      <td>0.0</td>\n",
              "      <td>0.0</td>\n",
              "    </tr>\n",
              "  </tbody>\n",
              "</table>\n",
              "<p>2 rows × 27 columns</p>\n",
              "</div>\n",
              "      <button class=\"colab-df-convert\" onclick=\"convertToInteractive('df-10165294-ed9a-4a6f-9a2d-585faaea8ffe')\"\n",
              "              title=\"Convert this dataframe to an interactive table.\"\n",
              "              style=\"display:none;\">\n",
              "        \n",
              "  <svg xmlns=\"http://www.w3.org/2000/svg\" height=\"24px\"viewBox=\"0 0 24 24\"\n",
              "       width=\"24px\">\n",
              "    <path d=\"M0 0h24v24H0V0z\" fill=\"none\"/>\n",
              "    <path d=\"M18.56 5.44l.94 2.06.94-2.06 2.06-.94-2.06-.94-.94-2.06-.94 2.06-2.06.94zm-11 1L8.5 8.5l.94-2.06 2.06-.94-2.06-.94L8.5 2.5l-.94 2.06-2.06.94zm10 10l.94 2.06.94-2.06 2.06-.94-2.06-.94-.94-2.06-.94 2.06-2.06.94z\"/><path d=\"M17.41 7.96l-1.37-1.37c-.4-.4-.92-.59-1.43-.59-.52 0-1.04.2-1.43.59L10.3 9.45l-7.72 7.72c-.78.78-.78 2.05 0 2.83L4 21.41c.39.39.9.59 1.41.59.51 0 1.02-.2 1.41-.59l7.78-7.78 2.81-2.81c.8-.78.8-2.07 0-2.86zM5.41 20L4 18.59l7.72-7.72 1.47 1.35L5.41 20z\"/>\n",
              "  </svg>\n",
              "      </button>\n",
              "      \n",
              "  <style>\n",
              "    .colab-df-container {\n",
              "      display:flex;\n",
              "      flex-wrap:wrap;\n",
              "      gap: 12px;\n",
              "    }\n",
              "\n",
              "    .colab-df-convert {\n",
              "      background-color: #E8F0FE;\n",
              "      border: none;\n",
              "      border-radius: 50%;\n",
              "      cursor: pointer;\n",
              "      display: none;\n",
              "      fill: #1967D2;\n",
              "      height: 32px;\n",
              "      padding: 0 0 0 0;\n",
              "      width: 32px;\n",
              "    }\n",
              "\n",
              "    .colab-df-convert:hover {\n",
              "      background-color: #E2EBFA;\n",
              "      box-shadow: 0px 1px 2px rgba(60, 64, 67, 0.3), 0px 1px 3px 1px rgba(60, 64, 67, 0.15);\n",
              "      fill: #174EA6;\n",
              "    }\n",
              "\n",
              "    [theme=dark] .colab-df-convert {\n",
              "      background-color: #3B4455;\n",
              "      fill: #D2E3FC;\n",
              "    }\n",
              "\n",
              "    [theme=dark] .colab-df-convert:hover {\n",
              "      background-color: #434B5C;\n",
              "      box-shadow: 0px 1px 3px 1px rgba(0, 0, 0, 0.15);\n",
              "      filter: drop-shadow(0px 1px 2px rgba(0, 0, 0, 0.3));\n",
              "      fill: #FFFFFF;\n",
              "    }\n",
              "  </style>\n",
              "\n",
              "      <script>\n",
              "        const buttonEl =\n",
              "          document.querySelector('#df-10165294-ed9a-4a6f-9a2d-585faaea8ffe button.colab-df-convert');\n",
              "        buttonEl.style.display =\n",
              "          google.colab.kernel.accessAllowed ? 'block' : 'none';\n",
              "\n",
              "        async function convertToInteractive(key) {\n",
              "          const element = document.querySelector('#df-10165294-ed9a-4a6f-9a2d-585faaea8ffe');\n",
              "          const dataTable =\n",
              "            await google.colab.kernel.invokeFunction('convertToInteractive',\n",
              "                                                     [key], {});\n",
              "          if (!dataTable) return;\n",
              "\n",
              "          const docLinkHtml = 'Like what you see? Visit the ' +\n",
              "            '<a target=\"_blank\" href=https://colab.research.google.com/notebooks/data_table.ipynb>data table notebook</a>'\n",
              "            + ' to learn more about interactive tables.';\n",
              "          element.innerHTML = '';\n",
              "          dataTable['output_type'] = 'display_data';\n",
              "          await google.colab.output.renderOutput(dataTable, element);\n",
              "          const docLink = document.createElement('div');\n",
              "          docLink.innerHTML = docLinkHtml;\n",
              "          element.appendChild(docLink);\n",
              "        }\n",
              "      </script>\n",
              "    </div>\n",
              "  </div>\n",
              "  "
            ],
            "text/plain": [
              "   index                                               path  subject_id  \\\n",
              "0      0  files/p10/p10000032/s50414267/02aa804e-bde0afd...    10000032   \n",
              "1      2  files/p10/p10000032/s53189527/2a2277a9-b0ded15...    10000032   \n",
              "\n",
              "   study_id                                      dicom_id  \\\n",
              "0  50414267  02aa804e-bde0afdd-112c0b34-7bc16630-4e384014   \n",
              "1  53189527  2a2277a9-b0ded155-c0de8eb9-c124d10e-82c5caab   \n",
              "\n",
              "  PerformedProcedureStepDescription ViewPosition  \\\n",
              "0                CHEST (PA AND LAT)           PA   \n",
              "1                CHEST (PA AND LAT)           PA   \n",
              "\n",
              "  ProcedureCodeSequence_CodeMeaning ViewCodeSequence_CodeMeaning   Race  ...  \\\n",
              "0                CHEST (PA AND LAT)             postero-anterior  WHITE  ...   \n",
              "1                CHEST (PA AND LAT)             postero-anterior  WHITE  ...   \n",
              "\n",
              "  Edema Enlarged Cardiomediastinum  Fracture  Lung Lesion  Lung Opacity  \\\n",
              "0   0.0                        0.0       0.0          0.0           0.0   \n",
              "1   0.0                        0.0       0.0          0.0           0.0   \n",
              "\n",
              "   Pleural Effusion  Pleural Other  Pneumonia  Pneumothorax  Support Devices  \n",
              "0               0.0            0.0        0.0           0.0              0.0  \n",
              "1               0.0            0.0        0.0           0.0              0.0  \n",
              "\n",
              "[2 rows x 27 columns]"
            ]
          },
          "execution_count": 8,
          "metadata": {},
          "output_type": "execute_result"
        }
      ],
      "source": [
        "# loading the label files and filtering out all non-frontal images\n",
        "meta_data_target = pd.read_csv('/content/sample_data/MIMIC/targets/metadata.csv')\n",
        "meta_data_target.head(2)\n",
        "N_all_samples = meta_data_target.shape[0]\n",
        "print(f'total samples are: {N_all_samples}')\n",
        "mask_lateral_samples = (meta_data_target['ViewPosition']=='PA') | (meta_data_target['ViewPosition']=='AP')\n",
        "n_images = mask_lateral_samples.sum()\n",
        "print(f'front image samples are: {n_images}')\n",
        "truncated_target_data = meta_data_target[mask_lateral_samples]\n",
        "truncated_target_data.reset_index(inplace=True)\n",
        "truncated_target_data.head(2)"
      ]
    },
    {
      "cell_type": "code",
      "execution_count": null,
      "metadata": {
        "colab": {
          "base_uri": "https://localhost:8080/"
        },
        "id": "2qZqsDyw4ugs",
        "outputId": "1b3f2068-f25a-44d7-c562-6c96131a00b0"
      },
      "outputs": [
        {
          "data": {
            "text/plain": [
              "array(['PA', 'LATERAL', 'AP', 'LL', nan, 'LAO', 'RAO', 'AP AXIAL',\n",
              "       'SWIMMERS', 'PA LLD', 'AP LLD', 'XTABLE LATERAL', 'AP RLD',\n",
              "       'PA RLD', 'LPO'], dtype=object)"
            ]
          },
          "execution_count": 9,
          "metadata": {},
          "output_type": "execute_result"
        }
      ],
      "source": [
        "# all types of images (views)\n",
        "pd.unique(meta_data_target['ViewPosition'])"
      ]
    },
    {
      "cell_type": "code",
      "execution_count": null,
      "metadata": {
        "colab": {
          "base_uri": "https://localhost:8080/"
        },
        "id": "Y8e5sTwzydYd",
        "outputId": "5a44908e-16a8-4829-b5d4-9d4e87cbce67"
      },
      "outputs": [
        {
          "data": {
            "text/plain": [
              "['index',\n",
              " 'path',\n",
              " 'subject_id',\n",
              " 'study_id',\n",
              " 'dicom_id',\n",
              " 'PerformedProcedureStepDescription',\n",
              " 'ViewPosition',\n",
              " 'ProcedureCodeSequence_CodeMeaning',\n",
              " 'ViewCodeSequence_CodeMeaning',\n",
              " 'Race',\n",
              " 'Ethnicity',\n",
              " 'Sex',\n",
              " 'Age',\n",
              " 'No Finding',\n",
              " 'Atelectasis',\n",
              " 'Cardiomegaly',\n",
              " 'Consolidation',\n",
              " 'Edema',\n",
              " 'Enlarged Cardiomediastinum',\n",
              " 'Fracture',\n",
              " 'Lung Lesion',\n",
              " 'Lung Opacity',\n",
              " 'Pleural Effusion',\n",
              " 'Pleural Other',\n",
              " 'Pneumonia',\n",
              " 'Pneumothorax',\n",
              " 'Support Devices']"
            ]
          },
          "execution_count": 12,
          "metadata": {},
          "output_type": "execute_result"
        }
      ],
      "source": [
        "# list of all available targets\n",
        "all_columns = list(truncated_target_data)\n",
        "all_columns"
      ]
    },
    {
      "cell_type": "code",
      "execution_count": null,
      "metadata": {
        "id": "ImyLxBD-FQdk"
      },
      "outputs": [],
      "source": [
        "# the name of all segments\n",
        "segment_names = ['Left Clavicle',\n",
        "                  'Right Clavicle',\n",
        "                  'Left Scapula',\n",
        "                  'Right Scapula',\n",
        "                  'Left Lung',\n",
        "                  'Right Lung',\n",
        "                  'Left Hilus Pulmonis',\n",
        "                  'Right Hilus Pulmonis',\n",
        "                  'Heart',\n",
        "                  'Aorta',\n",
        "                  'Facies Diaphragmatica',\n",
        "                  'Mediastinum',\n",
        "                  'Weasand',\n",
        "                  'Spine']"
      ]
    },
    {
      "cell_type": "code",
      "execution_count": null,
      "metadata": {
        "id": "lRSyrjtJyqj4"
      },
      "outputs": [],
      "source": [
        "# lets save all targets variables of images taken in PA & AP views\n",
        "\n",
        "targets = {}\n",
        "for col in all_columns:\n",
        "  targets.update({col:truncated_target_data[col].values})\n",
        "\n",
        "np.save(directory_cleaned_targets + '/new_targets.npy',targets)"
      ]
    },
    {
      "cell_type": "code",
      "execution_count": null,
      "metadata": {
        "colab": {
          "base_uri": "https://localhost:8080/"
        },
        "id": "biCuRBBazRic",
        "outputId": "7f6c9e3e-0c59-41df-96df-10ab1e833d12"
      },
      "outputs": [
        {
          "name": "stdout",
          "output_type": "stream",
          "text": [
            "device is True\n"
          ]
        },
        {
          "name": "stderr",
          "output_type": "stream",
          "text": [
            "100%|██████████| 243324/243324 [16:31:44<00:00,  4.09it/s]\n"
          ]
        }
      ],
      "source": [
        "# now we segment all images with PA & AP view positions\n",
        "segmenter = ChestXRaySegmentation(image_size=512,threshold=0.5) # we call the psp model + all image preprocessing modules\n",
        "base_path = '/content/sample_data/MIMIC/images/' # the base folder that all images are saved\n",
        "n_error =0\n",
        "for n in tqdm(range(n_images)):\n",
        "  try:\n",
        "    location = truncated_target_data['path'][n] # getting full location of imagese\n",
        "    picture_name = location.split('/')[-1].split('.')[0] # extracting the name of image(without extension)\n",
        "    filters,image,segments = segmenter.get_filter_image(base_path+location) # segment the image and process the image\n",
        "    np.save(directory_filterss + '/' +picture_name+'__filters.npy',filters),  np.save(directory_processed_images + '/' +picture_name+'__image.npy',image)\n",
        "  except:\n",
        "    n_error += 1\n",
        "\n",
        "# this is used to save segments\n",
        "  #  np.save(directory_segments + '/' +picture_name+'__segments.npy',segments)\n",
        "\n"
      ]
    }
  ],
  "metadata": {
    "accelerator": "GPU",
    "colab": {
      "provenance": []
    },
    "gpuClass": "standard",
    "kernelspec": {
      "display_name": "Python 3",
      "name": "python3"
    },
    "language_info": {
      "name": "python"
    }
  },
  "nbformat": 4,
  "nbformat_minor": 0
}
